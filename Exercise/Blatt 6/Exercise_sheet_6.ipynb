{
 "cells": [
  {
   "cell_type": "markdown",
   "metadata": {},
   "source": [
    "### Group\n",
    "### Timo Reents\n",
    "### Timo Marks\n",
    "### Sercan Dede\n",
    "### Jonathan Hungerland\n",
    "### Chinmay Chandratre"
   ]
  },
  {
   "cell_type": "code",
   "execution_count": 2,
   "metadata": {},
   "outputs": [],
   "source": [
    "import numpy as np\n",
    "import matplotlib.pyplot as plt\n",
    "import pandas as pd\n",
    "\n",
    "plt.rcParams[\"font.size\"] = 15\n"
   ]
  },
  {
   "cell_type": "code",
   "execution_count": 11,
   "metadata": {},
   "outputs": [],
   "source": [
    "x = np.array([[0, 0], [1, 0], [0, 1], [1, 1]])\n",
    "l = np.array([0, 1, 1, 1])"
   ]
  },
  {
   "cell_type": "markdown",
   "metadata": {},
   "source": [
    "# Task A"
   ]
  },
  {
   "cell_type": "code",
   "execution_count": 3,
   "metadata": {},
   "outputs": [
    {
     "data": {
      "text/plain": [
       "Text(0, 0.5, '$x_2$')"
      ]
     },
     "execution_count": 3,
     "metadata": {},
     "output_type": "execute_result"
    },
    {
     "data": {
      "image/png": "[encoded data removed]",
      "text/plain": [
       "<Figure size 432x288 with 2 Axes>"
      ]
     },
     "metadata": {
      "needs_background": "light"
     },
     "output_type": "display_data"
    }
   ],
   "source": [
    "fig, ax = plt.subplots()\n",
    "\n",
    "cmap = ax.scatter(x[:, 0], x[:, 1], c=l, cmap=\"plasma\", vmin=0, vmax=1)\n",
    "plt.colorbar(cmap, ax=ax, ticks=[0, 1], label=\"l - value\")\n",
    "ax.set_xlabel(\"$x_1$\")\n",
    "ax.set_ylabel(\"$x_2$\")"
   ]
  },
  {
   "cell_type": "markdown",
   "metadata": {},
   "source": [
    "The data points represent a logical `OR` function. It returns True if at least one component is True."
   ]
  },
  {
   "cell_type": "markdown",
   "metadata": {},
   "source": [
    "# Task B"
   ]
  },
  {
   "cell_type": "markdown",
   "metadata": {},
   "source": [
    "At $\\left(W_{11}s_1^{(1)} + W_{12}s_2^{(1)}\\right) = 0$ the function is not differentiable. Therefore, one would encounter problems while deriving it for the update rule. "
   ]
  },
  {
   "cell_type": "markdown",
   "metadata": {},
   "source": [
    "# Task C"
   ]
  },
  {
   "cell_type": "code",
   "execution_count": 12,
   "metadata": {},
   "outputs": [],
   "source": [
    "def train_perceptron(x, l, W, epsilon, print_=True):\n",
    "    for episode in range(1, 500):\n",
    "        if print_:\n",
    "            print(f\"episode {episode}\")\n",
    "        changed = [True] * 4\n",
    "        error = 0\n",
    "        for step in range(4):\n",
    "            x_ = x[step, :]\n",
    "            s_out = np.heaviside(W.dot(x_), 0)\n",
    "            delta_W = - epsilon  * (s_out - l[step]) * x_\n",
    "            W += delta_W\n",
    "            if np.all(delta_W == 0.0):\n",
    "                changed[step] = False\n",
    "            if print_:\n",
    "                print(f\"output: {s_out} target: {l[step]} weights: {W}\")\n",
    "            \n",
    "            error += np.abs(s_out - l[step])\n",
    "            \n",
    "        if print_:\n",
    "            print(\"\\n\")\n",
    "        if not any(changed):\n",
    "            if print_:\n",
    "                print(f\"Converged after {episode} episodes\")\n",
    "            return W, error\n",
    "        \n",
    "    print(\"not converged\")\n",
    "    return None, None"
   ]
  },
  {
   "cell_type": "code",
   "execution_count": 13,
   "metadata": {},
   "outputs": [
    {
     "name": "stdout",
     "output_type": "stream",
     "text": [
      "episode 1\n",
      "output: 0.0 target: 0 weights: [0. 0.]\n",
      "output: 0.0 target: 1 weights: [1. 0.]\n",
      "output: 0.0 target: 1 weights: [1. 1.]\n",
      "output: 1.0 target: 1 weights: [1. 1.]\n",
      "\n",
      "\n",
      "episode 2\n",
      "output: 0.0 target: 0 weights: [1. 1.]\n",
      "output: 1.0 target: 1 weights: [1. 1.]\n",
      "output: 1.0 target: 1 weights: [1. 1.]\n",
      "output: 1.0 target: 1 weights: [1. 1.]\n",
      "\n",
      "\n",
      "Converged after 2 episodes\n"
     ]
    }
   ],
   "source": [
    "W = np.array([0.0, 0.0])\n",
    "epsilon = 1\n",
    "trained_W, error = train_perceptron(x, l, W, epsilon)"
   ]
  },
  {
   "cell_type": "code",
   "execution_count": 14,
   "metadata": {},
   "outputs": [
    {
     "data": {
      "text/plain": [
       "0.0"
      ]
     },
     "execution_count": 14,
     "metadata": {},
     "output_type": "execute_result"
    }
   ],
   "source": [
    "# Any error?\n",
    "error"
   ]
  },
  {
   "cell_type": "markdown",
   "metadata": {},
   "source": [
    "# Task D"
   ]
  },
  {
   "cell_type": "code",
   "execution_count": 7,
   "metadata": {},
   "outputs": [
    {
     "data": {
      "text/plain": [
       "<matplotlib.legend.Legend at 0x1a74602be20>"
      ]
     },
     "execution_count": 7,
     "metadata": {},
     "output_type": "execute_result"
    },
    {
     "data": {
      "image/png": "[encoded data removed]",
      "text/plain": [
       "<Figure size 432x288 with 2 Axes>"
      ]
     },
     "metadata": {
      "needs_background": "light"
     },
     "output_type": "display_data"
    }
   ],
   "source": [
    "fig, ax = plt.subplots()\n",
    "\n",
    "cmap = ax.scatter(x[:, 0], x[:, 1], c=l, cmap=\"plasma\", vmin=0, vmax=1)\n",
    "plt.colorbar(cmap, ax=ax, ticks=[0, 1], label=\"l - value\")\n",
    "ax.set_xlabel(\"$x_1$\")\n",
    "ax.set_ylabel(\"$x_2$\")\n",
    "ax.axline((0, 0), slope=-W[0]/W[1], color=\"red\", linestyle=\"--\", label=\"decision boundary\")\n",
    "ax.legend(loc=\"upper center\")"
   ]
  },
  {
   "cell_type": "code",
   "execution_count": 8,
   "metadata": {},
   "outputs": [],
   "source": [
    "results = []\n",
    "\n",
    "for epsilon in np.linspace(0.01, 1, 20):\n",
    "    W = np.random.normal(size=2)\n",
    "    optimized_W, error = train_perceptron(x, l, W, epsilon, print_=False)\n",
    "    result = {\"epsilon\": epsilon, \"W0\": W[0], \"W1\": W[1], \"W0_opt\": optimized_W[0], \"W1_opt\": optimized_W[1], \"abs_error\": error}\n",
    "    results.append(result)\n",
    "    \n",
    "df_compare_initial = pd.DataFrame(results)"
   ]
  },
  {
   "cell_type": "code",
   "execution_count": 9,
   "metadata": {},
   "outputs": [
    {
     "data": {
      "text/html": [
       "<div>\n",
       "<style scoped>\n",
       "    .dataframe tbody tr th:only-of-type {\n",
       "        vertical-align: middle;\n",
       "    }\n",
       "\n",
       "    .dataframe tbody tr th {\n",
       "        vertical-align: top;\n",
       "    }\n",
       "\n",
       "    .dataframe thead th {\n",
       "        text-align: right;\n",
       "    }\n",
       "</style>\n",
       "<table border=\"1\" class=\"dataframe\">\n",
       "  <thead>\n",
       "    <tr style=\"text-align: right;\">\n",
       "      <th></th>\n",
       "      <th>epsilon</th>\n",
       "      <th>W0</th>\n",
       "      <th>W1</th>\n",
       "      <th>W0_opt</th>\n",
       "      <th>W1_opt</th>\n",
       "      <th>abs_error</th>\n",
       "    </tr>\n",
       "  </thead>\n",
       "  <tbody>\n",
       "    <tr>\n",
       "      <th>0</th>\n",
       "      <td>0.010000</td>\n",
       "      <td>0.007990</td>\n",
       "      <td>1.269239</td>\n",
       "      <td>0.007990</td>\n",
       "      <td>1.269239</td>\n",
       "      <td>0.0</td>\n",
       "    </tr>\n",
       "    <tr>\n",
       "      <th>1</th>\n",
       "      <td>0.062105</td>\n",
       "      <td>0.003074</td>\n",
       "      <td>1.352282</td>\n",
       "      <td>0.003074</td>\n",
       "      <td>1.352282</td>\n",
       "      <td>0.0</td>\n",
       "    </tr>\n",
       "    <tr>\n",
       "      <th>2</th>\n",
       "      <td>0.114211</td>\n",
       "      <td>0.120381</td>\n",
       "      <td>0.628120</td>\n",
       "      <td>0.120381</td>\n",
       "      <td>0.628120</td>\n",
       "      <td>0.0</td>\n",
       "    </tr>\n",
       "    <tr>\n",
       "      <th>3</th>\n",
       "      <td>0.166316</td>\n",
       "      <td>0.562861</td>\n",
       "      <td>0.162443</td>\n",
       "      <td>0.562861</td>\n",
       "      <td>0.162443</td>\n",
       "      <td>0.0</td>\n",
       "    </tr>\n",
       "    <tr>\n",
       "      <th>4</th>\n",
       "      <td>0.218421</td>\n",
       "      <td>0.173204</td>\n",
       "      <td>1.698678</td>\n",
       "      <td>0.173204</td>\n",
       "      <td>1.698678</td>\n",
       "      <td>0.0</td>\n",
       "    </tr>\n",
       "    <tr>\n",
       "      <th>5</th>\n",
       "      <td>0.270526</td>\n",
       "      <td>0.011911</td>\n",
       "      <td>0.033728</td>\n",
       "      <td>0.011911</td>\n",
       "      <td>0.033728</td>\n",
       "      <td>0.0</td>\n",
       "    </tr>\n",
       "    <tr>\n",
       "      <th>6</th>\n",
       "      <td>0.322632</td>\n",
       "      <td>0.201690</td>\n",
       "      <td>0.752485</td>\n",
       "      <td>0.201690</td>\n",
       "      <td>0.752485</td>\n",
       "      <td>0.0</td>\n",
       "    </tr>\n",
       "    <tr>\n",
       "      <th>7</th>\n",
       "      <td>0.374737</td>\n",
       "      <td>0.021674</td>\n",
       "      <td>0.782822</td>\n",
       "      <td>0.021674</td>\n",
       "      <td>0.782822</td>\n",
       "      <td>0.0</td>\n",
       "    </tr>\n",
       "    <tr>\n",
       "      <th>8</th>\n",
       "      <td>0.426842</td>\n",
       "      <td>0.001034</td>\n",
       "      <td>0.611146</td>\n",
       "      <td>0.001034</td>\n",
       "      <td>0.611146</td>\n",
       "      <td>0.0</td>\n",
       "    </tr>\n",
       "    <tr>\n",
       "      <th>9</th>\n",
       "      <td>0.478947</td>\n",
       "      <td>0.324934</td>\n",
       "      <td>0.112413</td>\n",
       "      <td>0.324934</td>\n",
       "      <td>0.112413</td>\n",
       "      <td>0.0</td>\n",
       "    </tr>\n",
       "    <tr>\n",
       "      <th>10</th>\n",
       "      <td>0.531053</td>\n",
       "      <td>0.041223</td>\n",
       "      <td>0.862789</td>\n",
       "      <td>0.041223</td>\n",
       "      <td>0.862789</td>\n",
       "      <td>0.0</td>\n",
       "    </tr>\n",
       "    <tr>\n",
       "      <th>11</th>\n",
       "      <td>0.583158</td>\n",
       "      <td>1.351064</td>\n",
       "      <td>0.277150</td>\n",
       "      <td>1.351064</td>\n",
       "      <td>0.277150</td>\n",
       "      <td>0.0</td>\n",
       "    </tr>\n",
       "    <tr>\n",
       "      <th>12</th>\n",
       "      <td>0.635263</td>\n",
       "      <td>1.475127</td>\n",
       "      <td>0.296802</td>\n",
       "      <td>1.475127</td>\n",
       "      <td>0.296802</td>\n",
       "      <td>0.0</td>\n",
       "    </tr>\n",
       "    <tr>\n",
       "      <th>13</th>\n",
       "      <td>0.687368</td>\n",
       "      <td>1.091648</td>\n",
       "      <td>0.088728</td>\n",
       "      <td>1.091648</td>\n",
       "      <td>0.088728</td>\n",
       "      <td>0.0</td>\n",
       "    </tr>\n",
       "    <tr>\n",
       "      <th>14</th>\n",
       "      <td>0.739474</td>\n",
       "      <td>0.387160</td>\n",
       "      <td>0.593549</td>\n",
       "      <td>0.387160</td>\n",
       "      <td>0.593549</td>\n",
       "      <td>0.0</td>\n",
       "    </tr>\n",
       "    <tr>\n",
       "      <th>15</th>\n",
       "      <td>0.791579</td>\n",
       "      <td>0.820759</td>\n",
       "      <td>0.205557</td>\n",
       "      <td>0.820759</td>\n",
       "      <td>0.205557</td>\n",
       "      <td>0.0</td>\n",
       "    </tr>\n",
       "    <tr>\n",
       "      <th>16</th>\n",
       "      <td>0.843684</td>\n",
       "      <td>1.023994</td>\n",
       "      <td>0.741402</td>\n",
       "      <td>1.023994</td>\n",
       "      <td>0.741402</td>\n",
       "      <td>0.0</td>\n",
       "    </tr>\n",
       "    <tr>\n",
       "      <th>17</th>\n",
       "      <td>0.895789</td>\n",
       "      <td>0.677082</td>\n",
       "      <td>0.871012</td>\n",
       "      <td>0.677082</td>\n",
       "      <td>0.871012</td>\n",
       "      <td>0.0</td>\n",
       "    </tr>\n",
       "    <tr>\n",
       "      <th>18</th>\n",
       "      <td>0.947895</td>\n",
       "      <td>1.801376</td>\n",
       "      <td>0.042674</td>\n",
       "      <td>1.801376</td>\n",
       "      <td>0.042674</td>\n",
       "      <td>0.0</td>\n",
       "    </tr>\n",
       "    <tr>\n",
       "      <th>19</th>\n",
       "      <td>1.000000</td>\n",
       "      <td>0.047985</td>\n",
       "      <td>0.074415</td>\n",
       "      <td>0.047985</td>\n",
       "      <td>0.074415</td>\n",
       "      <td>0.0</td>\n",
       "    </tr>\n",
       "  </tbody>\n",
       "</table>\n",
       "</div>"
      ],
      "text/plain": [
       "     epsilon        W0        W1    W0_opt    W1_opt  abs_error\n",
       "0   0.010000  0.007990  1.269239  0.007990  1.269239        0.0\n",
       "1   0.062105  0.003074  1.352282  0.003074  1.352282        0.0\n",
       "2   0.114211  0.120381  0.628120  0.120381  0.628120        0.0\n",
       "3   0.166316  0.562861  0.162443  0.562861  0.162443        0.0\n",
       "4   0.218421  0.173204  1.698678  0.173204  1.698678        0.0\n",
       "5   0.270526  0.011911  0.033728  0.011911  0.033728        0.0\n",
       "6   0.322632  0.201690  0.752485  0.201690  0.752485        0.0\n",
       "7   0.374737  0.021674  0.782822  0.021674  0.782822        0.0\n",
       "8   0.426842  0.001034  0.611146  0.001034  0.611146        0.0\n",
       "9   0.478947  0.324934  0.112413  0.324934  0.112413        0.0\n",
       "10  0.531053  0.041223  0.862789  0.041223  0.862789        0.0\n",
       "11  0.583158  1.351064  0.277150  1.351064  0.277150        0.0\n",
       "12  0.635263  1.475127  0.296802  1.475127  0.296802        0.0\n",
       "13  0.687368  1.091648  0.088728  1.091648  0.088728        0.0\n",
       "14  0.739474  0.387160  0.593549  0.387160  0.593549        0.0\n",
       "15  0.791579  0.820759  0.205557  0.820759  0.205557        0.0\n",
       "16  0.843684  1.023994  0.741402  1.023994  0.741402        0.0\n",
       "17  0.895789  0.677082  0.871012  0.677082  0.871012        0.0\n",
       "18  0.947895  1.801376  0.042674  1.801376  0.042674        0.0\n",
       "19  1.000000  0.047985  0.074415  0.047985  0.074415        0.0"
      ]
     },
     "execution_count": 9,
     "metadata": {},
     "output_type": "execute_result"
    }
   ],
   "source": [
    "df_compare_initial"
   ]
  },
  {
   "cell_type": "code",
   "execution_count": 10,
   "metadata": {},
   "outputs": [
    {
     "data": {
      "image/png": "[encoded data removed]",
      "text/plain": [
       "<Figure size 1080x576 with 2 Axes>"
      ]
     },
     "metadata": {
      "needs_background": "light"
     },
     "output_type": "display_data"
    }
   ],
   "source": [
    "fig, ax = plt.subplots(figsize=(15, 8))\n",
    "\n",
    "cmap = ax.scatter(x[:, 0], x[:, 1], c=l, cmap=\"plasma\", vmin=0, vmax=1, zorder=1, s=80)\n",
    "plt.colorbar(cmap, ax=ax, ticks=[0, 1], label=\"l - value\")\n",
    "ax.set_xlabel(\"$x_1$\")\n",
    "ax.set_ylabel(\"$x_2$\")\n",
    "\n",
    "#ax.legend(loc=\"upper center\")\n",
    "\n",
    "for W0, W1 in zip(df_compare_initial[\"W0_opt\"], df_compare_initial[\"W1_opt\"]):\n",
    "    ax.axline((0, 0), slope=-W0/W1, color=\"red\", linestyle=\"--\", label=\"decision boundary\", zorder=0)"
   ]
  },
  {
   "cell_type": "markdown",
   "metadata": {},
   "source": [
    "The different initial parameters result in different decision boundaries. This is directly clear since the weights do not change further if the data points were classified correctly once. Therefore the lines/weights do not converge to the same values. "
   ]
  },
  {
   "cell_type": "markdown",
   "metadata": {},
   "source": [
    "# Task E"
   ]
  },
  {
   "cell_type": "code",
   "execution_count": 7,
   "metadata": {},
   "outputs": [
    {
     "name": "stdout",
     "output_type": "stream",
     "text": [
      "not converged\n"
     ]
    }
   ],
   "source": [
    "l[3] = 0\n",
    "W = np.array([0.0, 0.0])\n",
    "epsilon = 1\n",
    "trained_W, error = train_perceptron(x, l, W, epsilon, print_ = False)"
   ]
  },
  {
   "cell_type": "markdown",
   "metadata": {},
   "source": [
    "The training does not converge since there is no possibility to classify the datapoints correctly by a line. Opposite points have the same label but you cannot differtiate these points in two areas by one line. There will be always at least one point that is missmatched. Therefore, the label is always unequal to the predicted result which leads to a periodic change of the weights. Best seen if you use print_=True in the function."
   ]
  },
  {
   "cell_type": "markdown",
   "metadata": {},
   "source": [
    "# Task F"
   ]
  },
  {
   "cell_type": "code",
   "execution_count": 12,
   "metadata": {},
   "outputs": [],
   "source": [
    "# Corrected version for task F\n",
    "# Set heavy side function to 1 if x is equal to 0\n",
    "\n",
    "def train_perceptron(x, l, W, epsilon, print_=True):\n",
    "    for episode in range(1, 500):\n",
    "        if print_:\n",
    "            print(f\"episode {episode}\")\n",
    "        changed = [True] * 4\n",
    "        error = 0\n",
    "        for step in range(4):\n",
    "            x_ = x[step, :]\n",
    "            s_out = np.heaviside(W.dot(x_), 1)\n",
    "            delta_W = - epsilon  * (s_out - l[step]) * x_\n",
    "            W += delta_W\n",
    "            if np.all(delta_W == 0.0):\n",
    "                changed[step] = False\n",
    "            if print_:\n",
    "                print(f\"output: {s_out} target: {l[step]} weights: {W}\")\n",
    "            \n",
    "            error += np.abs(s_out - l[step])\n",
    "            \n",
    "        if print_:\n",
    "            print(\"\\n\")\n",
    "        if not any(changed):\n",
    "            if print_:\n",
    "                print(f\"Converged after {episode} episodes\")\n",
    "            return W, error\n",
    "        \n",
    "    print(\"not convered\")\n",
    "    return None, None"
   ]
  },
  {
   "cell_type": "code",
   "execution_count": 13,
   "metadata": {},
   "outputs": [
    {
     "name": "stdout",
     "output_type": "stream",
     "text": [
      "episode 1\n",
      "output: 1.0 target: 1 weights: [1. 1.]\n",
      "output: 1.0 target: 0 weights: [0. 1.]\n",
      "output: 1.0 target: 0 weights: [0. 0.]\n",
      "output: 1.0 target: 0 weights: [-1. -1.]\n",
      "\n",
      "\n",
      "episode 2\n",
      "output: 1.0 target: 1 weights: [-1. -1.]\n",
      "output: 0.0 target: 0 weights: [-1. -1.]\n",
      "output: 0.0 target: 0 weights: [-1. -1.]\n",
      "output: 0.0 target: 0 weights: [-1. -1.]\n",
      "\n",
      "\n",
      "Converged after 2 episodes\n"
     ]
    }
   ],
   "source": [
    "l = [1, 0, 0, 0]\n",
    "W = np.array([1.0, 1.0])\n",
    "epsilon = 1\n",
    "trained_W, error = train_perceptron(x, l, W, epsilon)"
   ]
  },
  {
   "cell_type": "markdown",
   "metadata": {},
   "source": [
    "The problem is that the datapoints x2 - x4 are labeled correctly as 0 when the weights are set equal to 0. One can easily observe this by considering the heaviside function and the update rule. The first datapoint x1 would be labeled incorrectly as 0 however. But the data point has the coordinates (0, 0) and therefore $\\Delta W$ (eq. 4) would be equal to zero. Therefore, the weights will not change eventhough the point is missclassified. Due to this, one achieves missleading convergence.\n",
    "\n",
    "To correct this, one needs to redefine the heavyside funcation so that it returns 1 in case the argument is equal to 0 (see datapoint x1). This would lead to a $\\Delta W$ value unequal to 0 and this way the weights would be further adapted."
   ]
  }
 ],
 "metadata": {
  "interpreter": {
   "hash": "9d14e89f431ddf7f4553ab572ea815865d3cc6f4f269d8e28ebf0d78e9fd4a8b"
  },
  "kernelspec": {
   "display_name": "Python 3.8.10 64-bit ('base': conda)",
   "language": "python",
   "name": "python3"
  },
  "language_info": {
   "codemirror_mode": {
    "name": "ipython",
    "version": 3
   },
   "file_extension": ".py",
   "mimetype": "text/x-python",
   "name": "python",
   "nbconvert_exporter": "python",
   "pygments_lexer": "ipython3",
   "version": "3.8.5"
  },
  "orig_nbformat": 4
 },
 "nbformat": 4,
 "nbformat_minor": 2
}
