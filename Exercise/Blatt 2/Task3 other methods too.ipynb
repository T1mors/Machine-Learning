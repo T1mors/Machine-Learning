{
 "cells": [
  {
   "cell_type": "markdown",
   "metadata": {},
   "source": [
    "# Task D\n",
    "## On average, the more data points you have, the better the estimated parameters. Certainly it is possible that a simulation with fewer datapoints results in a better parameter approximation but on average more datapoints results in better estimations. \n",
    "## It seems that espectation value $\\mu$ is not affected by the number of samples as much as the standard deviation."
   ]
  },
  {
   "cell_type": "code",
   "execution_count": null,
   "metadata": {},
   "outputs": [],
   "source": [
    "N_more, N_less = 10000, 10\n",
    "\n",
    "gaussian_more_samples = np.random.normal(loc=20, scale=2, size=N_more)\n",
    "gaussian_less_samples = np.random.normal(loc=20, scale=2, size=N_less)\n",
    "\n",
    "mu_more = 1/len(gaussian_more_samples)*np.sum(gaussian_more_samples)\n",
    "sigma_squared_more = 1/len(gaussian_more_samples)*np.sum((gaussian_more_samples-mu_more)**2)\n",
    "\n",
    "mu_less = 1/len(gaussian_less_samples)*np.sum(gaussian_less_samples)\n",
    "sigma_squared_less = 1/len(gaussian_less_samples)*np.sum((gaussian_less_samples-mu_less)**2)\n",
    "\n",
    "display(Math(r'Correct\\ parameters:\\ \\mu={:.3f}\\ and\\ \\sigma^2={:.3f}'.format(20, 4)))\n",
    "display(Math(r'Computed\\ parameters\\ at\\ N={}:\\ \\mu={:.3f}\\ and\\ \\sigma^2={:.3f}'.format(N_more, mu_more, sigma_squared_more)))\n",
    "display(Math(r'Computed\\ parameters\\ at\\ N={}:\\ \\mu={:.3f}\\ and\\ \\sigma^2={:.3f}'.format(N_less, mu_less, sigma_squared_less)))\n"
   ]
  },
  {
   "cell_type": "markdown",
   "metadata": {},
   "source": [
    "# Zeit messen"
   ]
  },
  {
   "cell_type": "code",
   "execution_count": null,
   "metadata": {},
   "outputs": [],
   "source": [
    "start = time.perf_counter()\n",
    "samples = gen_samples(1000, pi, mu, sigma)\n",
    "end = time.perf_counter()\n",
    "print(end - start)"
   ]
  }
 ],
 "metadata": {
  "language_info": {
   "name": "python"
  },
  "orig_nbformat": 4
 },
 "nbformat": 4,
 "nbformat_minor": 2
}
