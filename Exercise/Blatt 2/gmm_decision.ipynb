{
 "cells": [
  {
   "cell_type": "markdown",
   "metadata": {},
   "source": [
    "# Decision theory\n",
    "\n",
    "The purpose of this notebook is to provide some illustrations on optimal classification for a 1-dimensional Gaussian Mixture Model. By Jakob Drefs."
   ]
  },
  {
   "cell_type": "markdown",
   "metadata": {},
   "source": [
    "In the following we will visualize for each class the conditional and joint probabilities $p(x\\vert c,\\Theta)$ and $p(x,c\\vert\\Theta)$ together with the decision regions $R_{c}$. The user can interactively adjust the number of classes $C$ and the model parameters $\\mu_{c},\\sigma_{c}^2, \\pi_{c}$ for a single class $c_0$. Parameters of further classes will be set automatically based on some heuristically chosen values. \n",
    "\n",
    "The definition of decision regions for optimal classification was introduced in the lecture as\n",
    "\n",
    "\\begin{equation}\n",
    "R_i=\\{x\\in\\mathcal{Data}~|~p(c=\\mathcal{C}_i|x,\\Theta)>p(c=\\mathcal{C}_j|x,\\Theta)~\\forall j\\neq i\\}\n",
    "\\end{equation}\n",
    "\n",
    "In order to illustrate $R_{i}$, posterior probabilities for each class given the data need to be computed. We will do this step by step. The implementation avoids loops by employing broadcasting and vectorization."
   ]
  },
  {
   "cell_type": "code",
   "execution_count": 1,
   "metadata": {},
   "outputs": [],
   "source": [
    "import numpy as np\n",
    "\n",
    "def p_x_c(x, mu, sigma) :\n",
    "    \"\"\"\n",
    "    Computes the class-conditional probabiliy p(x|c,Theta) using a Gaussian pdf. \n",
    "    Inputs\n",
    "        x       Data points, shape is (N,)\n",
    "        mu      Mean of Gaussian pdf for class c, shape is (C,)\n",
    "        sigma   Standard deviation of Gaussian pdf for class c, shape is (C,)\n",
    "    Outputs\n",
    "        p_x_c   Values of Gaussian pdf for given data and given parameters \n",
    "                for classes c=1...C, shape is (N, C)\n",
    "    \"\"\"\n",
    "    C = mu.size\n",
    "    return (2*np.pi*sigma[None,:]**2)**(-1./2) * np.exp(-1./(2*sigma[None,:]**2)*(x[:,None]-mu[None,:])**2)\n",
    "\n",
    "def p_x(x, mu, sigma, pi): \n",
    "    \"\"\"\n",
    "    Computes the marginal probabiliy p(x|Theta) for a GMM. \n",
    "    Inputs\n",
    "        x       Data points, shape is (N,)\n",
    "        mu      Mean of Gaussian pdf for class c, shape is (C,)\n",
    "        sigma   Standard deviation of Gaussian pdf for class c, shape is (C,)\n",
    "        pi      Prior probabilities (class responsibilities), shape is (C,)\n",
    "    Outputs\n",
    "        p_x     Values of joint density p(x|Theta) for given data and given parameters, \n",
    "                shape is (N,)\n",
    "    \"\"\"\n",
    "    return (p_x_c(x, mu, sigma)*pi[None,0:]).sum(axis=1)\n",
    "\n",
    "def p_c_x(x, mu, sigma, pi) :\n",
    "    \"\"\"\n",
    "    Computes the posterior probabiliy p(c|x,Theta) for a GMM. \n",
    "    Inputs\n",
    "        x       Data points, shape is (N,)\n",
    "        mu      Mean of Gaussian pdf for class c, shape is (C,)\n",
    "        sigma   Standard deviation of Gaussian pdf for class c, shape is (C,)\n",
    "        pi      Prior probabilities (class responsibilities), shape is (C,)\n",
    "    Outputs\n",
    "        p_c_x   Values of posterior distribution p(c|x,Theta) for given data and given parameters, \n",
    "                shape is (N,C)\n",
    "    \"\"\"\n",
    "    p_x_c_ = p_x_c(x, mu, sigma)*pi[None,0:]\n",
    "    p_x_ = p_x(x, mu, sigma, pi)\n",
    "    return p_x_c_/p_x_[:,None]"
   ]
  },
  {
   "cell_type": "markdown",
   "metadata": {},
   "source": [
    "Next we write a short script which \n",
    "* generates some data,\n",
    "* sets some artificially chosen model parameters for each class,\n",
    "* computes the decision regions and\n",
    "* visualizes everything in a interactive plot using Python's ipywidgets module."
   ]
  },
  {
   "cell_type": "code",
   "execution_count": 2,
   "metadata": {},
   "outputs": [
    {
     "data": {
      "application/vnd.jupyter.widget-view+json": {
       "model_id": "26113be28fef44d0a63883c2316e9226",
       "version_major": 2,
       "version_minor": 0
      },
      "text/plain": [
       "interactive(children=(IntSlider(value=6, description='C', max=10, min=2), IntSlider(value=24, description='mu_…"
      ]
     },
     "metadata": {},
     "output_type": "display_data"
    },
    {
     "data": {
      "text/plain": [
       "<function __main__.figure(C, mu_0, pi_0, sigma_0, condjoin, marg)>"
      ]
     },
     "execution_count": 2,
     "metadata": {},
     "output_type": "execute_result"
    }
   ],
   "source": [
    "%matplotlib inline\n",
    "#%matplotlib qt\n",
    "from matplotlib import pyplot as plt\n",
    "from ipywidgets import *\n",
    "\n",
    "def figure(C, mu_0, pi_0, sigma_0, condjoin, marg):\n",
    "    \n",
    "    # data range\n",
    "    xlim = [0, 50]\n",
    "    mulim = [20, 30]\n",
    "    x = np.arange(xlim[0],xlim[1], 0.1)\n",
    "\n",
    "    # invent some generative parameters\n",
    "    mu = np.linspace(mulim[0],mulim[1],C)\n",
    "    #mu = np.array([20.]*C)\n",
    "    sigma = np.array([2]*C)\n",
    "    pi = np.array([(1-pi_0)/(C-1)]*C)\n",
    "        \n",
    "    # interactively adjust parameters of class c0\n",
    "    middle = int(float(C)/2)\n",
    "    mu[middle-1] = mu_0\n",
    "    pi[middle-1] = pi_0\n",
    "    sigma[middle-1] = sigma_0\n",
    "    print(\"By adjusting the sliders, you can manipulate\")\n",
    "    print(\"the model parameters of class %d.\" % middle)\n",
    "    print(\"For the other classes the parameters are set to\")\n",
    "    print(\"mu_c:\")\n",
    "    print(mu[np.arange(C)!=(middle-1)])\n",
    "    print(\"sigma_c:\"    )\n",
    "    print(sigma[np.arange(C)!=(middle-1)])\n",
    "    print(\"pi_c:\"        )\n",
    "    print(pi[np.arange(C)!=(middle-1)])\n",
    "    \n",
    "    # compute class-conditionals, marginals and posteriors\n",
    "    p_x_c_ = p_x_c(x, mu, sigma)\n",
    "    p_x_ = p_x(x, mu, sigma, pi)\n",
    "    p_c_x_ = p_c_x(x, mu, sigma, pi)\n",
    "\n",
    "    # visualization settings\n",
    "    figsize = [6*3, 6*1.8]\n",
    "    axesize = [0.29, 0.25, 0.65, 0.67]\n",
    "    titlesize = 16\n",
    "    legsize = 12\n",
    "    labelsize = 14\n",
    "    y_Rk = np.linspace(-0.01, -0.001, C)    \n",
    "    ylim = [-0.5, np.amax(p_x_c_)*1.01]\n",
    "        \n",
    "    fig = plt.figure(figsize=figsize)\n",
    "    ax = fig.add_axes(axesize)\n",
    "    \n",
    "    for c in range(C):\n",
    "        col = \"k\"\n",
    "        if c == (middle-1):\n",
    "            col = \"r\"            \n",
    "        \n",
    "        if condjoin == 1:\n",
    "            # plot conditionals\n",
    "            lab = \"$p(x|c=\\mathcal{C}_{%d}|\\Theta)$\" % (c+1)    \n",
    "            line = ax.plot(x, p_x_c_[:,c], '--', label=lab)#, color=col)\n",
    "            linecolor = line[0].get_color()\n",
    "        elif condjoin == 2:\n",
    "            # plot joints\n",
    "            lab = \"$p(x,c=\\mathcal{C}_{%d}|\\Theta)$\" % (c+1)    \n",
    "            line = ax.plot(x, p_x_c_[:,c]*pi[c], '--', label=lab)#, color=col)\n",
    "            linecolor = line[0].get_color()\n",
    "            \n",
    "        # plot decision regions\n",
    "        lab = \"$\\mathcal{R}_{%d}$\" % (c+1)            \n",
    "        ind_Rk = (p_c_x_[:,c] > p_c_x_[:,np.arange(C)!=c].max(axis=1))\n",
    "        Rk = x[ind_Rk]\n",
    "        ax.plot(Rk, y_Rk[c]*np.ones_like(Rk), 'o', label=lab, color=linecolor)\n",
    "                \n",
    "        # uncomment to plot posterios\n",
    "        #lab = \"$p(c=C_{%d}\\,|\\,x,\\Theta)$\" % (c+1)\n",
    "        #ax.plot(x, p_c_x_[:,c], label=lab, color=linecolor)\n",
    "    \n",
    "    if marg==1:\n",
    "        # plot marginal\n",
    "        lab = \"$p(x\\,|\\,\\Theta)$\"\n",
    "        ax.plot(x, p_x_, label=lab, color='black')\n",
    "\n",
    "    ax.set_xlabel('$x$',fontsize=labelsize)\n",
    "    #ax.set_title(\"Mixture of Gaussians\",fontsize= titlesize)\n",
    "    ax.legend(prop={'size': legsize});\n",
    "#    ax.set_ylim(ylim)\n",
    "    \n",
    "    plt.show\n",
    "    \n",
    "interact(figure, C=(2,10,1), mu_0=(0, 50, 2), pi_0=(0.1,1,0.1), sigma_0=(1,10,1), condjoin=(1,2,1), marg=(0,1,1))"
   ]
  },
  {
   "cell_type": "code",
   "execution_count": null,
   "metadata": {},
   "outputs": [],
   "source": []
  }
 ],
 "metadata": {
  "kernelspec": {
   "display_name": "Python 3 (ipykernel)",
   "language": "python",
   "name": "python3"
  },
  "language_info": {
   "codemirror_mode": {
    "name": "ipython",
    "version": 3
   },
   "file_extension": ".py",
   "mimetype": "text/x-python",
   "name": "python",
   "nbconvert_exporter": "python",
   "pygments_lexer": "ipython3",
   "version": "3.9.7"
  }
 },
 "nbformat": 4,
 "nbformat_minor": 1
}
