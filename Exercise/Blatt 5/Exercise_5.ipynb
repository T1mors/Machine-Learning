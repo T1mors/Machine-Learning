{
 "cells": [
  {
   "cell_type": "markdown",
   "metadata": {},
   "source": [
    "### Group\n",
    "### Timo Reents\n",
    "### Timo Marks\n",
    "### Sercan Dede\n",
    "### Jonathan Hungerland\n",
    "### Chinmay Chandratre"
   ]
  },
  {
   "cell_type": "code",
   "execution_count": 1,
   "metadata": {},
   "outputs": [],
   "source": [
    "import numpy as np\n",
    "import matplotlib.pyplot as plt\n",
    "import pandas as pd\n",
    "\n",
    "plt.rcParams[\"xtick.labelsize\"] = 15\n",
    "plt.rcParams[\"ytick.labelsize\"] = 15"
   ]
  },
  {
   "cell_type": "markdown",
   "metadata": {},
   "source": [
    "# Task A"
   ]
  },
  {
   "cell_type": "code",
   "execution_count": 2,
   "metadata": {},
   "outputs": [],
   "source": [
    "def generative_model(N, mu, sigma, W):\n",
    "    \n",
    "    data = []\n",
    "    z_values = []\n",
    "    for _ in range(N):\n",
    "        z = np.random.normal(size=1)\n",
    "        z_values.append(z)\n",
    "        mean = np.array(W) * z + np.array(mu)\n",
    "        cov = np.identity(2) * sigma ** 2\n",
    "        data.append(np.random.multivariate_normal(mean=mean, cov=cov, size=1))\n",
    "    \n",
    "    return np.vstack(np.array(data)), np.array(z_values).flatten()\n",
    "    "
   ]
  },
  {
   "cell_type": "code",
   "execution_count": 3,
   "metadata": {},
   "outputs": [],
   "source": [
    "mu = [50, 15]\n",
    "sigma = 3\n",
    "W = [10, 25]\n",
    "N = 100\n",
    "\n",
    "generated_data = generative_model(N, mu, sigma, W)"
   ]
  },
  {
   "cell_type": "markdown",
   "metadata": {},
   "source": [
    "# Task B"
   ]
  },
  {
   "cell_type": "code",
   "execution_count": 4,
   "metadata": {},
   "outputs": [
    {
     "data": {
      "text/plain": [
       "([], [])"
      ]
     },
     "execution_count": 4,
     "metadata": {},
     "output_type": "execute_result"
    },
    {
     "data": {
      "image/png": "[encoded data removed]",
      "text/plain": [
       "<Figure size 432x288 with 1 Axes>"
      ]
     },
     "metadata": {
      "needs_background": "light"
     },
     "output_type": "display_data"
    }
   ],
   "source": [
    "fig, ax = plt.subplots()\n",
    "\n",
    "ax.scatter(generated_data[1], np.zeros(generated_data[1].shape))\n",
    "ax.set_xlabel(\"z\", fontsize=15)\n",
    "plt.yticks([])"
   ]
  },
  {
   "cell_type": "code",
   "execution_count": 5,
   "metadata": {},
   "outputs": [
    {
     "data": {
      "text/plain": [
       "Text(0, 0.5, '$x_2$')"
      ]
     },
     "execution_count": 5,
     "metadata": {},
     "output_type": "execute_result"
    },
    {
     "data": {
      "image/png": "[encoded data removed]",
      "text/plain": [
       "<Figure size 432x288 with 1 Axes>"
      ]
     },
     "metadata": {
      "needs_background": "light"
     },
     "output_type": "display_data"
    }
   ],
   "source": [
    "fig, ax = plt.subplots()\n",
    "\n",
    "ax.scatter(generated_data[0][:, 0], generated_data[0][:, 1], label=\"Datapoints\")\n",
    "\n",
    "ax.legend()\n",
    "ax.set_xlabel(\"$x_1$\", fontsize=15)\n",
    "ax.set_ylabel(\"$x_2$\", fontsize=15)"
   ]
  },
  {
   "cell_type": "markdown",
   "metadata": {},
   "source": [
    "# Task C"
   ]
  },
  {
   "cell_type": "code",
   "execution_count": 6,
   "metadata": {},
   "outputs": [],
   "source": [
    "class DeterministicPCA:\n",
    "    \"\"\"\n",
    "    Class that implements deterministic PCA.\n",
    "    \"\"\"\n",
    "    \n",
    "    def __init__(self, x):\n",
    "        # data, shape: (number of data points, dimension)\n",
    "        self.x = x\n",
    "        # number of data points\n",
    "        self.N = x.shape[0]\n",
    "    \n",
    "    def run(self):\n",
    "        \"\"\"\n",
    "        Method to run the deterministic PCA process.\n",
    "        \"\"\"\n",
    "        \n",
    "        # Calculate mean     \n",
    "        mu = self.x.mean(axis=0)\n",
    "        x_ = self.x - mu\n",
    "        \n",
    "        # Calculate S\n",
    "        S = 1 / self.N * (x_[:, :, None] * x_[:, None, :]).sum(axis=0)\n",
    "        \n",
    "        # Compute eigenvectors and eigenvalues\n",
    "        eig_values, eig_vectors = np.linalg.eig(S)\n",
    "        \n",
    "        # Determine eigenvector that belongs to the eigenvalue with the largest absolute value\n",
    "        idx_max_ev = np.argmax(np.abs(eig_values))\n",
    "        \n",
    "        return eig_vectors[:, idx_max_ev], mu\n",
    "            "
   ]
  },
  {
   "cell_type": "code",
   "execution_count": 7,
   "metadata": {},
   "outputs": [],
   "source": [
    "det_pca = DeterministicPCA(generated_data[0])"
   ]
  },
  {
   "cell_type": "code",
   "execution_count": 8,
   "metadata": {},
   "outputs": [],
   "source": [
    "eig_vec, comp_mu = det_pca.run()"
   ]
  },
  {
   "cell_type": "code",
   "execution_count": 9,
   "metadata": {},
   "outputs": [
    {
     "name": "stdout",
     "output_type": "stream",
     "text": [
      "[50.40632324 15.88282467]\n"
     ]
    }
   ],
   "source": [
    "print(comp_mu)"
   ]
  },
  {
   "cell_type": "code",
   "execution_count": 10,
   "metadata": {},
   "outputs": [
    {
     "data": {
      "text/plain": [
       "Text(0, 0.5, '$x_2$')"
      ]
     },
     "execution_count": 10,
     "metadata": {},
     "output_type": "execute_result"
    },
    {
     "data": {
      "image/png": "[encoded data removed]",
      "text/plain": [
       "<Figure size 432x288 with 1 Axes>"
      ]
     },
     "metadata": {
      "needs_background": "light"
     },
     "output_type": "display_data"
    }
   ],
   "source": [
    "fig, ax = plt.subplots()\n",
    "\n",
    "p1 = comp_mu\n",
    "p2 = comp_mu + eig_vec\n",
    "\n",
    "ax.scatter(generated_data[0][:, 0], generated_data[0][:, 1], label=\"Datapoints\")\n",
    "ax.axline(p1, p2, color=\"red\", label=\"Det. PCA line\")\n",
    "\n",
    "ax.legend()\n",
    "ax.set_xlabel(\"$x_1$\", fontsize=15)\n",
    "ax.set_ylabel(\"$x_2$\", fontsize=15)"
   ]
  },
  {
   "cell_type": "markdown",
   "metadata": {},
   "source": [
    "# Task D"
   ]
  },
  {
   "cell_type": "code",
   "execution_count": 11,
   "metadata": {},
   "outputs": [],
   "source": [
    "class ProbabilisticPCA:\n",
    "    \n",
    "    def __init__(self, x, W, sigma, max_steps=100):\n",
    "        \n",
    "        self.x = x\n",
    "        self.mu = self.x.mean(axis=0)\n",
    "        self.W = W\n",
    "        self.sigma = sigma\n",
    "        self.N = self.x.shape[0] # number of data points\n",
    "        self.D = self.x.shape[1] # Dimension of observation space\n",
    "        self.max_steps = max_steps\n",
    "           \n",
    "    def _perform_e_step(self):\n",
    "        \n",
    "        \n",
    "        self.M = self.W.transpose() @ self.W + self.sigma ** 2 * np.identity(self.W.shape[1])\n",
    "        \n",
    "        # Script equation 139\n",
    "        self.mom1 = (np.linalg.inv(self.M) @ self.W.transpose()).dot((self.x - self.mu).transpose())\n",
    "        # Script equation 140\n",
    "        self.mom2 = self.sigma ** 2 * np.linalg.inv(self.M) + self.mom1.transpose()[:, :, None] * self.mom1.transpose()[:, None, :]\n",
    "    \n",
    "    def _perform_m_step(self):\n",
    "        \n",
    "        \"\"\"\n",
    "        Performs the m-step of the PCA EM algorithm.\n",
    "        \"\"\"\n",
    "        \n",
    "        # Script equation 142\n",
    "        self.W = ((self.x - self.mu)[:, :, None] * self.mom1.transpose()[:, None, :]).sum(axis=0) @ np.linalg.inv(self.mom2.sum(axis=0))\n",
    "\n",
    "        # Script equation 143\n",
    "        sigma2 = (\n",
    "            1 / (self.N * self.D) * (\n",
    "                ((self.x - self.mu) * (self.x - self.mu)).sum(axis=1) + np.trace((self.W.transpose() @ self.W) @ self.mom2, axis1=1, axis2=2) \n",
    "                - 2 * (((self.x - self.mu) * (self.W @ self.mom1).transpose()).sum(axis=1))).sum()\n",
    "        )\n",
    "        self.sigma = np.sqrt(sigma2)        \n",
    "        \n",
    "    def _calculate_log_likelihood(self):\n",
    "\n",
    "        \"\"\"\n",
    "        Calculate the log-likelihood. Script equation 172.\n",
    "        \"\"\"\n",
    "\n",
    "        C = self.W @ self.W.transpose() + self.sigma ** 2 * np.identity(self.W.shape[0])\n",
    "        S = 1 / self.N * ((self.x - self.mu)[:, :, None] * (self.x - self.mu)[:, None, :]).sum(axis=0)\n",
    "        \n",
    "        log_likelihood = (- self.N / 2 * (\n",
    "            self.D * np.log(2 * np.pi) + np.log(np.linalg.det(C)) + np.trace(np.linalg.inv(C) @ S)\n",
    "            )\n",
    "        )\n",
    "        \n",
    "        return log_likelihood\n",
    "    \n",
    "    def run(self, print_=True, return_=True):\n",
    "\n",
    "        \"\"\"\n",
    "        Run the EM algorithm.\n",
    "\n",
    "        parameters:\n",
    "\n",
    "        print_: Whether to print the log-likelihood in each step\n",
    "        return_: Whether to return the list of log-likelihoods\n",
    "        \"\"\"\n",
    "        \n",
    "        converged = False\n",
    "        step = 0\n",
    "        log_likelihood = self._calculate_log_likelihood()\n",
    "        log_likelihood_list = [log_likelihood]\n",
    "        mu_parameters = [self.mu]\n",
    "        sigma_parameters = [self.sigma]\n",
    "        W_parameters = [self.W]\n",
    "        if print_:\n",
    "                print(f\"step {step}: {log_likelihood}\")\n",
    "        \n",
    "        # The actual algorithm\n",
    "        while not converged and step < self.max_steps:\n",
    "            \n",
    "            self._perform_e_step()\n",
    "            self._perform_m_step()\n",
    "            \n",
    "            log_likelihood = self._calculate_log_likelihood()\n",
    "\n",
    "            # \"\"\" Save parameters in array or each iteration \"\"\"\n",
    "            log_likelihood_list.append(log_likelihood)\n",
    "            mu_parameters.append(self.mu)\n",
    "            sigma_parameters.append(self.sigma)\n",
    "            W_parameters.append(self.W)\n",
    "            step += 1\n",
    "            \n",
    "            if print_:\n",
    "                print(f\"step {step}: {log_likelihood}\")\n",
    "            \n",
    "        if return_:\n",
    "            return dict(mu= mu_parameters, sigma=sigma_parameters, W=W_parameters, log_likelihood=log_likelihood_list)\n",
    "    \n",
    "    def return_final_parameters(self):\n",
    "\n",
    "        \"\"\"\n",
    "        Return the final parameters for the PCA model.\n",
    "        \"\"\"\n",
    "        \n",
    "        return {\"mu\": self.mu, \"sigma\": self.sigma, \"W\": self.W}\n",
    "    \n",
    "        "
   ]
  },
  {
   "cell_type": "code",
   "execution_count": 12,
   "metadata": {},
   "outputs": [],
   "source": [
    "prob_pca = ProbabilisticPCA(generated_data[0], np.array([0.0, 10]).reshape(2, 1), 1, max_steps=50)"
   ]
  },
  {
   "cell_type": "code",
   "execution_count": 13,
   "metadata": {},
   "outputs": [],
   "source": [
    "run_prob_pca = prob_pca.run(print_=False)"
   ]
  },
  {
   "cell_type": "code",
   "execution_count": 14,
   "metadata": {},
   "outputs": [
    {
     "data": {
      "text/plain": [
       "{'mu': array([50.40632324, 15.88282467]),\n",
       " 'sigma': 3.346054904037953,\n",
       " 'W': array([[ 9.24571338],\n",
       "        [22.75449392]])}"
      ]
     },
     "execution_count": 14,
     "metadata": {},
     "output_type": "execute_result"
    }
   ],
   "source": [
    "prob_pca_opt = prob_pca.return_final_parameters()\n",
    "prob_pca_opt"
   ]
  },
  {
   "cell_type": "markdown",
   "metadata": {},
   "source": [
    "The parameters of the generative model are quite well approximated. Interesting to notice, the parameter W still changes significantly after 50 iterations (see date frame below). The 'convergence' of sigma is achieved after a few iterations (with respect to the first decimal digit)."
   ]
  },
  {
   "cell_type": "code",
   "execution_count": 15,
   "metadata": {},
   "outputs": [
    {
     "data": {
      "text/plain": [
       "Text(0.5, 1.0, 'The results of the deterministic and probabilistic PCA are nearly identical.')"
      ]
     },
     "execution_count": 15,
     "metadata": {},
     "output_type": "execute_result"
    },
    {
     "data": {
      "image/png": "[encoded data removed]",
      "text/plain": [
       "<Figure size 1080x576 with 1 Axes>"
      ]
     },
     "metadata": {
      "needs_background": "light"
     },
     "output_type": "display_data"
    }
   ],
   "source": [
    "fig, ax = plt.subplots(figsize=(15, 8))\n",
    "\n",
    "p1_det = comp_mu\n",
    "p2_det = comp_mu + eig_vec\n",
    "p1_prob = prob_pca_opt.get(\"mu\").flatten()\n",
    "p2_prob = prob_pca_opt.get(\"mu\").flatten() + prob_pca_opt.get(\"W\").flatten()\n",
    "\n",
    "ax.scatter(generated_data[0][:, 0], generated_data[0][:, 1], label=\"Datapoints\")\n",
    "ax.axline(p1_det, p2_det, color=\"red\", label=\"Det. PCA line\")\n",
    "ax.axline(p1_prob, p2_prob, color=\"green\", label=\"Prob. PCA line\", linestyle=\"dashed\")\n",
    "\n",
    "ax.legend()\n",
    "ax.set_xlabel(\"$x_1$\", fontsize=15)\n",
    "ax.set_ylabel(\"$x_2$\", fontsize=15)\n",
    "ax.set_title(\"The results of the deterministic and probabilistic PCA are nearly identical.\")"
   ]
  },
  {
   "cell_type": "code",
   "execution_count": 16,
   "metadata": {},
   "outputs": [
    {
     "data": {
      "text/plain": [
       "Text(0, 0.5, 'Log-likelihood')"
      ]
     },
     "execution_count": 16,
     "metadata": {},
     "output_type": "execute_result"
    },
    {
     "data": {
      "image/png": "[encoded data removed]",
      "text/plain": [
       "<Figure size 1080x576 with 1 Axes>"
      ]
     },
     "metadata": {
      "needs_background": "light"
     },
     "output_type": "display_data"
    }
   ],
   "source": [
    "fig, ax = plt.subplots(figsize=(15, 8))\n",
    "\n",
    "log_likelihood = run_prob_pca.get(\"log_likelihood\")\n",
    "\n",
    "ax.plot(np.arange(len(log_likelihood)), log_likelihood)\n",
    "ax.set_xlabel(\"Iteration no.\", fontsize=15)\n",
    "ax.set_ylabel(\"Log-likelihood\", fontsize=15)"
   ]
  },
  {
   "cell_type": "code",
   "execution_count": 17,
   "metadata": {},
   "outputs": [],
   "source": [
    "outputs = np.hstack((np.array(run_prob_pca.get(\"sigma\")).reshape(-1, 1), np.hstack(run_prob_pca.get(\"W\")).T))"
   ]
  },
  {
   "cell_type": "code",
   "execution_count": 18,
   "metadata": {},
   "outputs": [
    {
     "data": {
      "text/html": [
       "<div>\n",
       "<style scoped>\n",
       "    .dataframe tbody tr th:only-of-type {\n",
       "        vertical-align: middle;\n",
       "    }\n",
       "\n",
       "    .dataframe tbody tr th {\n",
       "        vertical-align: top;\n",
       "    }\n",
       "\n",
       "    .dataframe thead th {\n",
       "        text-align: right;\n",
       "    }\n",
       "</style>\n",
       "<table border=\"1\" class=\"dataframe\">\n",
       "  <thead>\n",
       "    <tr style=\"text-align: right;\">\n",
       "      <th></th>\n",
       "      <th>sigma</th>\n",
       "      <th>W1</th>\n",
       "      <th>W2</th>\n",
       "    </tr>\n",
       "  </thead>\n",
       "  <tbody>\n",
       "    <tr>\n",
       "      <th>0</th>\n",
       "      <td>1.000000</td>\n",
       "      <td>0.000000</td>\n",
       "      <td>10.000000</td>\n",
       "    </tr>\n",
       "    <tr>\n",
       "      <th>1</th>\n",
       "      <td>2.658207</td>\n",
       "      <td>4.028118</td>\n",
       "      <td>10.084516</td>\n",
       "    </tr>\n",
       "    <tr>\n",
       "      <th>2</th>\n",
       "      <td>3.047142</td>\n",
       "      <td>4.289890</td>\n",
       "      <td>10.560406</td>\n",
       "    </tr>\n",
       "    <tr>\n",
       "      <th>3</th>\n",
       "      <td>3.238328</td>\n",
       "      <td>4.538377</td>\n",
       "      <td>11.169377</td>\n",
       "    </tr>\n",
       "    <tr>\n",
       "      <th>4</th>\n",
       "      <td>3.334150</td>\n",
       "      <td>4.795309</td>\n",
       "      <td>11.801667</td>\n",
       "    </tr>\n",
       "    <tr>\n",
       "      <th>5</th>\n",
       "      <td>3.380021</td>\n",
       "      <td>5.045428</td>\n",
       "      <td>12.417230</td>\n",
       "    </tr>\n",
       "    <tr>\n",
       "      <th>6</th>\n",
       "      <td>3.399536</td>\n",
       "      <td>5.282345</td>\n",
       "      <td>13.000303</td>\n",
       "    </tr>\n",
       "    <tr>\n",
       "      <th>7</th>\n",
       "      <td>3.405518</td>\n",
       "      <td>5.504288</td>\n",
       "      <td>13.546524</td>\n",
       "    </tr>\n",
       "    <tr>\n",
       "      <th>8</th>\n",
       "      <td>3.404916</td>\n",
       "      <td>5.711525</td>\n",
       "      <td>14.056553</td>\n",
       "    </tr>\n",
       "    <tr>\n",
       "      <th>9</th>\n",
       "      <td>3.401404</td>\n",
       "      <td>5.905112</td>\n",
       "      <td>14.532988</td>\n",
       "    </tr>\n",
       "    <tr>\n",
       "      <th>10</th>\n",
       "      <td>3.396856</td>\n",
       "      <td>6.086318</td>\n",
       "      <td>14.978952</td>\n",
       "    </tr>\n",
       "    <tr>\n",
       "      <th>11</th>\n",
       "      <td>3.392178</td>\n",
       "      <td>6.256381</td>\n",
       "      <td>15.397490</td>\n",
       "    </tr>\n",
       "    <tr>\n",
       "      <th>12</th>\n",
       "      <td>3.387765</td>\n",
       "      <td>6.416418</td>\n",
       "      <td>15.791355</td>\n",
       "    </tr>\n",
       "    <tr>\n",
       "      <th>13</th>\n",
       "      <td>3.383764</td>\n",
       "      <td>6.567407</td>\n",
       "      <td>16.162951</td>\n",
       "    </tr>\n",
       "    <tr>\n",
       "      <th>14</th>\n",
       "      <td>3.380199</td>\n",
       "      <td>6.710192</td>\n",
       "      <td>16.514358</td>\n",
       "    </tr>\n",
       "    <tr>\n",
       "      <th>15</th>\n",
       "      <td>3.377043</td>\n",
       "      <td>6.845503</td>\n",
       "      <td>16.847369</td>\n",
       "    </tr>\n",
       "    <tr>\n",
       "      <th>16</th>\n",
       "      <td>3.374250</td>\n",
       "      <td>6.973968</td>\n",
       "      <td>17.163534</td>\n",
       "    </tr>\n",
       "    <tr>\n",
       "      <th>17</th>\n",
       "      <td>3.371773</td>\n",
       "      <td>7.096137</td>\n",
       "      <td>17.464201</td>\n",
       "    </tr>\n",
       "    <tr>\n",
       "      <th>18</th>\n",
       "      <td>3.369567</td>\n",
       "      <td>7.212488</td>\n",
       "      <td>17.750551</td>\n",
       "    </tr>\n",
       "    <tr>\n",
       "      <th>19</th>\n",
       "      <td>3.367591</td>\n",
       "      <td>7.323445</td>\n",
       "      <td>18.023625</td>\n",
       "    </tr>\n",
       "    <tr>\n",
       "      <th>20</th>\n",
       "      <td>3.365814</td>\n",
       "      <td>7.429382</td>\n",
       "      <td>18.284346</td>\n",
       "    </tr>\n",
       "    <tr>\n",
       "      <th>21</th>\n",
       "      <td>3.364208</td>\n",
       "      <td>7.530635</td>\n",
       "      <td>18.533538</td>\n",
       "    </tr>\n",
       "    <tr>\n",
       "      <th>22</th>\n",
       "      <td>3.362750</td>\n",
       "      <td>7.627504</td>\n",
       "      <td>18.771941</td>\n",
       "    </tr>\n",
       "    <tr>\n",
       "      <th>23</th>\n",
       "      <td>3.361421</td>\n",
       "      <td>7.720260</td>\n",
       "      <td>19.000221</td>\n",
       "    </tr>\n",
       "    <tr>\n",
       "      <th>24</th>\n",
       "      <td>3.360204</td>\n",
       "      <td>7.809149</td>\n",
       "      <td>19.218985</td>\n",
       "    </tr>\n",
       "    <tr>\n",
       "      <th>25</th>\n",
       "      <td>3.359086</td>\n",
       "      <td>7.894395</td>\n",
       "      <td>19.428784</td>\n",
       "    </tr>\n",
       "    <tr>\n",
       "      <th>26</th>\n",
       "      <td>3.358056</td>\n",
       "      <td>7.976203</td>\n",
       "      <td>19.630121</td>\n",
       "    </tr>\n",
       "    <tr>\n",
       "      <th>27</th>\n",
       "      <td>3.357104</td>\n",
       "      <td>8.054761</td>\n",
       "      <td>19.823457</td>\n",
       "    </tr>\n",
       "    <tr>\n",
       "      <th>28</th>\n",
       "      <td>3.356222</td>\n",
       "      <td>8.130241</td>\n",
       "      <td>20.009220</td>\n",
       "    </tr>\n",
       "    <tr>\n",
       "      <th>29</th>\n",
       "      <td>3.355402</td>\n",
       "      <td>8.202802</td>\n",
       "      <td>20.187800</td>\n",
       "    </tr>\n",
       "    <tr>\n",
       "      <th>30</th>\n",
       "      <td>3.354639</td>\n",
       "      <td>8.272593</td>\n",
       "      <td>20.359561</td>\n",
       "    </tr>\n",
       "    <tr>\n",
       "      <th>31</th>\n",
       "      <td>3.353927</td>\n",
       "      <td>8.339750</td>\n",
       "      <td>20.524842</td>\n",
       "    </tr>\n",
       "    <tr>\n",
       "      <th>32</th>\n",
       "      <td>3.353261</td>\n",
       "      <td>8.404402</td>\n",
       "      <td>20.683954</td>\n",
       "    </tr>\n",
       "    <tr>\n",
       "      <th>33</th>\n",
       "      <td>3.352638</td>\n",
       "      <td>8.466666</td>\n",
       "      <td>20.837192</td>\n",
       "    </tr>\n",
       "    <tr>\n",
       "      <th>34</th>\n",
       "      <td>3.352053</td>\n",
       "      <td>8.526654</td>\n",
       "      <td>20.984827</td>\n",
       "    </tr>\n",
       "    <tr>\n",
       "      <th>35</th>\n",
       "      <td>3.351503</td>\n",
       "      <td>8.584470</td>\n",
       "      <td>21.127116</td>\n",
       "    </tr>\n",
       "    <tr>\n",
       "      <th>36</th>\n",
       "      <td>3.350985</td>\n",
       "      <td>8.640211</td>\n",
       "      <td>21.264300</td>\n",
       "    </tr>\n",
       "    <tr>\n",
       "      <th>37</th>\n",
       "      <td>3.350497</td>\n",
       "      <td>8.693968</td>\n",
       "      <td>21.396602</td>\n",
       "    </tr>\n",
       "    <tr>\n",
       "      <th>38</th>\n",
       "      <td>3.350036</td>\n",
       "      <td>8.745829</td>\n",
       "      <td>21.524235</td>\n",
       "    </tr>\n",
       "    <tr>\n",
       "      <th>39</th>\n",
       "      <td>3.349601</td>\n",
       "      <td>8.795873</td>\n",
       "      <td>21.647398</td>\n",
       "    </tr>\n",
       "    <tr>\n",
       "      <th>40</th>\n",
       "      <td>3.349189</td>\n",
       "      <td>8.844178</td>\n",
       "      <td>21.766280</td>\n",
       "    </tr>\n",
       "    <tr>\n",
       "      <th>41</th>\n",
       "      <td>3.348799</td>\n",
       "      <td>8.890815</td>\n",
       "      <td>21.881059</td>\n",
       "    </tr>\n",
       "    <tr>\n",
       "      <th>42</th>\n",
       "      <td>3.348429</td>\n",
       "      <td>8.935854</td>\n",
       "      <td>21.991902</td>\n",
       "    </tr>\n",
       "    <tr>\n",
       "      <th>43</th>\n",
       "      <td>3.348078</td>\n",
       "      <td>8.979358</td>\n",
       "      <td>22.098970</td>\n",
       "    </tr>\n",
       "    <tr>\n",
       "      <th>44</th>\n",
       "      <td>3.347745</td>\n",
       "      <td>9.021389</td>\n",
       "      <td>22.202413</td>\n",
       "    </tr>\n",
       "    <tr>\n",
       "      <th>45</th>\n",
       "      <td>3.347428</td>\n",
       "      <td>9.062006</td>\n",
       "      <td>22.302375</td>\n",
       "    </tr>\n",
       "    <tr>\n",
       "      <th>46</th>\n",
       "      <td>3.347126</td>\n",
       "      <td>9.101264</td>\n",
       "      <td>22.398990</td>\n",
       "    </tr>\n",
       "    <tr>\n",
       "      <th>47</th>\n",
       "      <td>3.346839</td>\n",
       "      <td>9.139214</td>\n",
       "      <td>22.492390</td>\n",
       "    </tr>\n",
       "    <tr>\n",
       "      <th>48</th>\n",
       "      <td>3.346565</td>\n",
       "      <td>9.175908</td>\n",
       "      <td>22.582697</td>\n",
       "    </tr>\n",
       "    <tr>\n",
       "      <th>49</th>\n",
       "      <td>3.346304</td>\n",
       "      <td>9.211393</td>\n",
       "      <td>22.670027</td>\n",
       "    </tr>\n",
       "    <tr>\n",
       "      <th>50</th>\n",
       "      <td>3.346055</td>\n",
       "      <td>9.245713</td>\n",
       "      <td>22.754494</td>\n",
       "    </tr>\n",
       "  </tbody>\n",
       "</table>\n",
       "</div>"
      ],
      "text/plain": [
       "       sigma        W1         W2\n",
       "0   1.000000  0.000000  10.000000\n",
       "1   2.658207  4.028118  10.084516\n",
       "2   3.047142  4.289890  10.560406\n",
       "3   3.238328  4.538377  11.169377\n",
       "4   3.334150  4.795309  11.801667\n",
       "5   3.380021  5.045428  12.417230\n",
       "6   3.399536  5.282345  13.000303\n",
       "7   3.405518  5.504288  13.546524\n",
       "8   3.404916  5.711525  14.056553\n",
       "9   3.401404  5.905112  14.532988\n",
       "10  3.396856  6.086318  14.978952\n",
       "11  3.392178  6.256381  15.397490\n",
       "12  3.387765  6.416418  15.791355\n",
       "13  3.383764  6.567407  16.162951\n",
       "14  3.380199  6.710192  16.514358\n",
       "15  3.377043  6.845503  16.847369\n",
       "16  3.374250  6.973968  17.163534\n",
       "17  3.371773  7.096137  17.464201\n",
       "18  3.369567  7.212488  17.750551\n",
       "19  3.367591  7.323445  18.023625\n",
       "20  3.365814  7.429382  18.284346\n",
       "21  3.364208  7.530635  18.533538\n",
       "22  3.362750  7.627504  18.771941\n",
       "23  3.361421  7.720260  19.000221\n",
       "24  3.360204  7.809149  19.218985\n",
       "25  3.359086  7.894395  19.428784\n",
       "26  3.358056  7.976203  19.630121\n",
       "27  3.357104  8.054761  19.823457\n",
       "28  3.356222  8.130241  20.009220\n",
       "29  3.355402  8.202802  20.187800\n",
       "30  3.354639  8.272593  20.359561\n",
       "31  3.353927  8.339750  20.524842\n",
       "32  3.353261  8.404402  20.683954\n",
       "33  3.352638  8.466666  20.837192\n",
       "34  3.352053  8.526654  20.984827\n",
       "35  3.351503  8.584470  21.127116\n",
       "36  3.350985  8.640211  21.264300\n",
       "37  3.350497  8.693968  21.396602\n",
       "38  3.350036  8.745829  21.524235\n",
       "39  3.349601  8.795873  21.647398\n",
       "40  3.349189  8.844178  21.766280\n",
       "41  3.348799  8.890815  21.881059\n",
       "42  3.348429  8.935854  21.991902\n",
       "43  3.348078  8.979358  22.098970\n",
       "44  3.347745  9.021389  22.202413\n",
       "45  3.347428  9.062006  22.302375\n",
       "46  3.347126  9.101264  22.398990\n",
       "47  3.346839  9.139214  22.492390\n",
       "48  3.346565  9.175908  22.582697\n",
       "49  3.346304  9.211393  22.670027\n",
       "50  3.346055  9.245713  22.754494"
      ]
     },
     "execution_count": 18,
     "metadata": {},
     "output_type": "execute_result"
    }
   ],
   "source": [
    "pd.DataFrame(outputs, columns=[\"sigma\", \"W1\", \"W2\"])"
   ]
  },
  {
   "cell_type": "code",
   "execution_count": null,
   "metadata": {},
   "outputs": [],
   "source": []
  },
  {
   "cell_type": "code",
   "execution_count": null,
   "metadata": {},
   "outputs": [],
   "source": []
  }
 ],
 "metadata": {
  "interpreter": {
   "hash": "9d14e89f431ddf7f4553ab572ea815865d3cc6f4f269d8e28ebf0d78e9fd4a8b"
  },
  "kernelspec": {
   "display_name": "Python 3.8.10 64-bit ('base': conda)",
   "language": "python",
   "name": "python3"
  },
  "language_info": {
   "codemirror_mode": {
    "name": "ipython",
    "version": 3
   },
   "file_extension": ".py",
   "mimetype": "text/x-python",
   "name": "python",
   "nbconvert_exporter": "python",
   "pygments_lexer": "ipython3",
   "version": "3.8.10"
  },
  "orig_nbformat": 4
 },
 "nbformat": 4,
 "nbformat_minor": 2
}
